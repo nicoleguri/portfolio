{
 "cells": [
  {
   "cell_type": "code",
   "execution_count": 1,
   "metadata": {},
   "outputs": [],
   "source": [
    "from src.classification.pre_process import *\n",
    "from sklearn.svm import SVC\n",
    "import joblib\n",
    "import os\n",
    "from sklearn.preprocessing import StandardScaler"
   ]
  },
  {
   "cell_type": "code",
   "execution_count": 2,
   "metadata": {},
   "outputs": [],
   "source": [
    "# Classification Training\n",
    "X_train, X_test, y_train, y_test = processClassificationTrain('./data/TrainDataset2024.xls')"
   ]
  },
  {
   "cell_type": "code",
   "execution_count": 3,
   "metadata": {},
   "outputs": [
    {
     "name": "stdout",
     "output_type": "stream",
     "text": [
      "Epoch [10/50], Loss: 0.6269\n",
      "Epoch [20/50], Loss: 0.4109\n",
      "Epoch [30/50], Loss: 0.2570\n",
      "Epoch [40/50], Loss: 0.1329\n",
      "Epoch [50/50], Loss: 0.0412\n",
      "Accuracy: 0.89\n",
      "\n",
      "Classification Report:\n",
      "              precision    recall  f1-score   support\n",
      "\n",
      "     Class 0       0.93      0.84      0.89        64\n",
      "     Class 1       0.86      0.94      0.89        63\n",
      "\n",
      "    accuracy                           0.89       127\n",
      "   macro avg       0.89      0.89      0.89       127\n",
      "weighted avg       0.89      0.89      0.89       127\n",
      "\n"
     ]
    },
    {
     "data": {
      "image/png": "[encoded data removed]",
      "text/plain": [
       "<Figure size 640x480 with 2 Axes>"
      ]
     },
     "metadata": {},
     "output_type": "display_data"
    }
   ],
   "source": [
    "import torch\n",
    "import torch.nn as nn\n",
    "import torch.optim as optim\n",
    "from sklearn.metrics import accuracy_score, classification_report, confusion_matrix, ConfusionMatrixDisplay\n",
    "import pandas as pd\n",
    "import joblib\n",
    "import os\n",
    "import seaborn as sns\n",
    "import matplotlib.pyplot as plt\n",
    "\n",
    "# scaler = joblib.load('./src/models/data_preprocessing/scaler.joblib')\n",
    "\n",
    "# scaler_path = './src/models/data_preprocessing/scaler.joblib'\n",
    "# scaler = StandardScaler()\n",
    "\n",
    "# # Scale the data\n",
    "# X_train_scaled = scaler.fit_transform(X_train)\n",
    "# joblib.dump(scaler, scaler_path)\n",
    "# X_test_scaled = scaler.transform(X_test)\n",
    "\n",
    "# Convert numpy arrays to tensors\n",
    "X_train_tensor = torch.from_numpy(X_train.to_numpy()).float()\n",
    "X_test_tensor = torch.from_numpy(X_test.to_numpy()).float()\n",
    "y_train_tensor = torch.from_numpy(y_train.to_numpy()).long()\n",
    "y_test_tensor = torch.from_numpy(y_test.to_numpy()).long()\n",
    "\n",
    "# Define the neural network model with even more layers\n",
    "class Net(nn.Module):\n",
    "    def __init__(self):\n",
    "        super(Net, self).__init__()\n",
    "        self.fc1 = nn.Linear(X_train_tensor.shape[1], 128)  # input layer (784) -> hidden layer (128)\n",
    "        self.fc2 = nn.Linear(128, 128)  # hidden layer (128) -> hidden layer (128)\n",
    "        self.fc3 = nn.Linear(128, 128)  # hidden layer (128) -> hidden layer (128)\n",
    "        self.fc4 = nn.Linear(128, 128)  # hidden layer (128) -> hidden layer (128)\n",
    "        self.fc5 = nn.Linear(128, 128)  # hidden layer (128) -> hidden layer (128)\n",
    "        self.fc6 = nn.Linear(128, 2)  # hidden layer (128) -> output layer (2) (Binary classification)\n",
    "\n",
    "    def forward(self, x):\n",
    "        x = torch.relu(self.fc1(x))  # activation function for hidden layer\n",
    "        x = torch.relu(self.fc2(x))\n",
    "        x = torch.relu(self.fc3(x))\n",
    "        x = torch.relu(self.fc4(x))\n",
    "        x = torch.relu(self.fc5(x))\n",
    "        x = self.fc6(x)\n",
    "        return x\n",
    "\n",
    "net = Net()\n",
    "\n",
    "epochs = 50\n",
    "\n",
    "# Loss function and optimizer\n",
    "criterion = nn.CrossEntropyLoss()\n",
    "optimizer = optim.Adam(net.parameters(), lr=0.001)\n",
    "\n",
    "# Train the network\n",
    "for epoch in range(epochs):  # loop over the dataset multiple times\n",
    "    optimizer.zero_grad()\n",
    "    outputs = net(X_train_tensor)\n",
    "    loss = criterion(outputs, y_train_tensor)\n",
    "    loss.backward()\n",
    "    optimizer.step()\n",
    "    if (epoch+1) % 10 == 0:  # print every 100 mini-batches\n",
    "        print(f'Epoch [{epoch+1}/{epochs}], Loss: {loss.item():.4f}')\n",
    "\n",
    "# Make predictions\n",
    "y_pred_tensor = net(X_test_tensor).argmax(dim=1)\n",
    "y_pred = y_pred_tensor.cpu().numpy()\n",
    "\n",
    "# Evaluate the model\n",
    "accuracy = accuracy_score(y_test, y_pred)\n",
    "print(f\"Accuracy: {accuracy:.2f}\")\n",
    "\n",
    "# Classification report for precision, recall, and F1-score\n",
    "print(\"\\nClassification Report:\")\n",
    "report = classification_report(y_test, y_pred, target_names=[f\"Class {i}\" for i in range(len(set(y_train)))])\n",
    "print(report)\n",
    "\n",
    "# Confusion matrix\n",
    "conf_matrix = confusion_matrix(y_test, y_pred)\n",
    "disp = ConfusionMatrixDisplay(confusion_matrix=conf_matrix)\n",
    "disp.plot()\n",
    "\n",
    "plt.title('Confusion Matrix')\n",
    "plt.show()\n",
    "\n",
    "# Save the model\n",
    "os.makedirs('./src/models/classification', exist_ok=True)\n",
    "torch.save(net.state_dict(), './src/models/classification/neural_network_model.pth')"
   ]
  },
  {
   "cell_type": "code",
   "execution_count": 4,
   "metadata": {},
   "outputs": [],
   "source": [
    "_, X_test, _, y_test = processClassificationTest('./data/TestDatasetExample.xls')"
   ]
  },
  {
   "cell_type": "code",
   "execution_count": 5,
   "metadata": {},
   "outputs": [
    {
     "name": "stdout",
     "output_type": "stream",
     "text": [
      "\n",
      "Predictions on Test Data:\n",
      "          ID  Predicted pCR (outcome)\n",
      "0  TRG002728                        1\n",
      "1  TRG002649                        1\n",
      "2  TRG002628                        1\n"
     ]
    }
   ],
   "source": [
    "def predict_new_data(test_file_path, model_path):\n",
    "    \"\"\"\n",
    "    Preprocess new data and make predictions using a saved PyTorch model.\n",
    "    \"\"\"\n",
    "    # Read original data to get IDs\n",
    "    original_data = pd.read_excel(test_file_path)\n",
    "    original_ids = original_data['ID'].values\n",
    "    \n",
    "    # Initialize pipeline for test data\n",
    "    _, X_test, _, y_test = processClassificationTest(test_file_path)\n",
    "    \n",
    "    # Convert data to tensors\n",
    "    X_test_tensor = torch.from_numpy(X_test.to_numpy()).float()\n",
    "    \n",
    "    # Load the saved PyTorch model\n",
    "    model = Net()\n",
    "    model.load_state_dict(torch.load(model_path, weights_only=True))\n",
    "    model.eval()\n",
    "    \n",
    "    # Make predictions\n",
    "    with torch.no_grad():\n",
    "        predictions = model(X_test_tensor).argmax(dim=1)\n",
    "    \n",
    "    # Create results DataFrame\n",
    "    results = pd.DataFrame({\n",
    "        'ID': original_ids,\n",
    "        'Predicted pCR (outcome)': predictions.cpu().numpy()\n",
    "    })\n",
    "    \n",
    "    return results\n",
    "\n",
    "# Make predictions on test data using the saved PyTorch model\n",
    "predictions_df = predict_new_data('./data/TestDatasetExample.xls', './src/models/classification/neural_network_model.pth')\n",
    "print(\"\\nPredictions on Test Data:\")\n",
    "print(predictions_df)"
   ]
  },
  {
   "cell_type": "code",
   "execution_count": null,
   "metadata": {},
   "outputs": [],
   "source": []
  }
 ],
 "metadata": {
  "kernelspec": {
   "display_name": "MLE",
   "language": "python",
   "name": "python3"
  },
  "language_info": {
   "codemirror_mode": {
    "name": "ipython",
    "version": 3
   },
   "file_extension": ".py",
   "mimetype": "text/x-python",
   "name": "python",
   "nbconvert_exporter": "python",
   "pygments_lexer": "ipython3",
   "version": "3.10.15"
  }
 },
 "nbformat": 4,
 "nbformat_minor": 2
}
